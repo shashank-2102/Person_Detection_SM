{
 "cells": [
  {
   "cell_type": "code",
   "execution_count": null,
   "metadata": {},
   "outputs": [],
   "source": [
    "import rosbag\n",
    "import cv2\n",
    "\n",
    "bag_file = \"/path/to/rosbag.bag\"\n",
    "topic = \"/camera/image_raw\"\n",
    "\n",
    "with rosbag.Bag(bag_file) as bag:\n",
    "    for topic, msg, t in bag.read_messages():\n",
    "        if topic == \"/camera/image_raw\":\n",
    "            image = cv2.imdecode(msg.data, cv2.IMREAD_COLOR)\n",
    "            cap = cv2.VideoCapture(image)\n",
    "            while cap.isOpened():\n",
    "                ret, frame = cap.read()\n",
    "                if ret:\n",
    "                    your_program.process_frame(frame)\n",
    "                else:\n",
    "                    break\n",
    "            cap.release()\n",
    "\n"
   ]
  }
 ],
 "metadata": {
  "language_info": {
   "name": "python"
  },
  "orig_nbformat": 4
 },
 "nbformat": 4,
 "nbformat_minor": 2
}
