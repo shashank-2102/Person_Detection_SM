{
 "cells": [
  {
   "cell_type": "code",
   "execution_count": 1,
   "metadata": {},
   "outputs": [
    {
     "name": "stdout",
     "output_type": "stream",
     "text": [
      "Delft<Tue\n"
     ]
    }
   ],
   "source": [
    "print(\"Delft<Tue\")"
   ]
  },
  {
   "cell_type": "markdown",
   "metadata": {},
   "source": [
    "git status  # to see the status  \n",
    "git add filename  # add specific file to the staging area    \n",
    "git commit -m \"msg\"  # commit changes with a message  \n",
    "git push  # push changes to the remote repository  \n",
    "\n",
    "git checkout -b branch_name  # create and switch to a new branch  \n",
    "git checkout branch_name  # switch to an existing branch  \n"
   ]
  }
 ],
 "metadata": {
  "kernelspec": {
   "display_name": "Person_Detection_SM",
   "language": "python",
   "name": "python3"
  },
  "language_info": {
   "codemirror_mode": {
    "name": "ipython",
    "version": 3
   },
   "file_extension": ".py",
   "mimetype": "text/x-python",
   "name": "python",
   "nbconvert_exporter": "python",
   "pygments_lexer": "ipython3",
   "version": "3.10.11"
  }
 },
 "nbformat": 4,
 "nbformat_minor": 2
}
